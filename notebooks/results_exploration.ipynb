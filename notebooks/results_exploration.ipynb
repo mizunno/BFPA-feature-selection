{
 "cells": [
  {
   "cell_type": "code",
   "execution_count": 10,
   "metadata": {},
   "outputs": [
    {
     "ename": "ModuleNotFoundError",
     "evalue": "No module named 'seaborn'",
     "output_type": "error",
     "traceback": [
      "\u001b[0;31m---------------------------------------------------------------------------\u001b[0m",
      "\u001b[0;31mModuleNotFoundError\u001b[0m                       Traceback (most recent call last)",
      "\u001b[0;32m<ipython-input-10-61e0adcaee13>\u001b[0m in \u001b[0;36m<module>\u001b[0;34m\u001b[0m\n\u001b[1;32m      1\u001b[0m \u001b[0;32mimport\u001b[0m \u001b[0mpandas\u001b[0m \u001b[0;32mas\u001b[0m \u001b[0mpd\u001b[0m\u001b[0;34m\u001b[0m\u001b[0;34m\u001b[0m\u001b[0m\n\u001b[0;32m----> 2\u001b[0;31m \u001b[0;32mimport\u001b[0m \u001b[0mseaborn\u001b[0m \u001b[0;32mas\u001b[0m \u001b[0msns\u001b[0m\u001b[0;34m\u001b[0m\u001b[0;34m\u001b[0m\u001b[0m\n\u001b[0m",
      "\u001b[0;31mModuleNotFoundError\u001b[0m: No module named 'seaborn'"
     ]
    }
   ],
   "source": [
    "import pandas as pd\n",
    "import seaborn as sns"
   ]
  },
  {
   "cell_type": "code",
   "execution_count": 6,
   "metadata": {},
   "outputs": [
    {
     "data": {
      "text/html": [
       "<div>\n",
       "<style scoped>\n",
       "    .dataframe tbody tr th:only-of-type {\n",
       "        vertical-align: middle;\n",
       "    }\n",
       "\n",
       "    .dataframe tbody tr th {\n",
       "        vertical-align: top;\n",
       "    }\n",
       "\n",
       "    .dataframe thead th {\n",
       "        text-align: right;\n",
       "    }\n",
       "</style>\n",
       "<table border=\"1\" class=\"dataframe\">\n",
       "  <thead>\n",
       "    <tr style=\"text-align: right;\">\n",
       "      <th></th>\n",
       "      <th>idataset</th>\n",
       "      <th>num_features</th>\n",
       "      <th>num_selected_features</th>\n",
       "      <th>base_score</th>\n",
       "      <th>selected_features_score</th>\n",
       "      <th>num_flowers</th>\n",
       "      <th>dataset</th>\n",
       "      <th>i</th>\n",
       "    </tr>\n",
       "  </thead>\n",
       "  <tbody>\n",
       "    <tr>\n",
       "      <th>0</th>\n",
       "      <td>NaN</td>\n",
       "      <td>4862</td>\n",
       "      <td>4367</td>\n",
       "      <td>0.942249</td>\n",
       "      <td>0.955927</td>\n",
       "      <td>10</td>\n",
       "      <td>BASEHOCK</td>\n",
       "      <td>0</td>\n",
       "    </tr>\n",
       "    <tr>\n",
       "      <th>1</th>\n",
       "      <td>NaN</td>\n",
       "      <td>22283</td>\n",
       "      <td>11175</td>\n",
       "      <td>0.827586</td>\n",
       "      <td>0.931034</td>\n",
       "      <td>10</td>\n",
       "      <td>GLI_85</td>\n",
       "      <td>0</td>\n",
       "    </tr>\n",
       "    <tr>\n",
       "      <th>2</th>\n",
       "      <td>NaN</td>\n",
       "      <td>3289</td>\n",
       "      <td>2373</td>\n",
       "      <td>0.873832</td>\n",
       "      <td>0.894081</td>\n",
       "      <td>10</td>\n",
       "      <td>PCMAC</td>\n",
       "      <td>0</td>\n",
       "    </tr>\n",
       "    <tr>\n",
       "      <th>3</th>\n",
       "      <td>NaN</td>\n",
       "      <td>4322</td>\n",
       "      <td>4322</td>\n",
       "      <td>0.870488</td>\n",
       "      <td>0.900212</td>\n",
       "      <td>10</td>\n",
       "      <td>RELATHE</td>\n",
       "      <td>0</td>\n",
       "    </tr>\n",
       "    <tr>\n",
       "      <th>4</th>\n",
       "      <td>NaN</td>\n",
       "      <td>4862</td>\n",
       "      <td>4359</td>\n",
       "      <td>0.946809</td>\n",
       "      <td>0.963526</td>\n",
       "      <td>10</td>\n",
       "      <td>BASEHOCK</td>\n",
       "      <td>1</td>\n",
       "    </tr>\n",
       "    <tr>\n",
       "      <th>...</th>\n",
       "      <td>...</td>\n",
       "      <td>...</td>\n",
       "      <td>...</td>\n",
       "      <td>...</td>\n",
       "      <td>...</td>\n",
       "      <td>...</td>\n",
       "      <td>...</td>\n",
       "      <td>...</td>\n",
       "    </tr>\n",
       "    <tr>\n",
       "      <th>75</th>\n",
       "      <td>NaN</td>\n",
       "      <td>4322</td>\n",
       "      <td>3929</td>\n",
       "      <td>0.887473</td>\n",
       "      <td>0.904459</td>\n",
       "      <td>10</td>\n",
       "      <td>RELATHE</td>\n",
       "      <td>18</td>\n",
       "    </tr>\n",
       "    <tr>\n",
       "      <th>76</th>\n",
       "      <td>NaN</td>\n",
       "      <td>4862</td>\n",
       "      <td>4700</td>\n",
       "      <td>0.951368</td>\n",
       "      <td>0.957447</td>\n",
       "      <td>10</td>\n",
       "      <td>BASEHOCK</td>\n",
       "      <td>19</td>\n",
       "    </tr>\n",
       "    <tr>\n",
       "      <th>77</th>\n",
       "      <td>NaN</td>\n",
       "      <td>22283</td>\n",
       "      <td>11209</td>\n",
       "      <td>0.793103</td>\n",
       "      <td>0.965517</td>\n",
       "      <td>10</td>\n",
       "      <td>GLI_85</td>\n",
       "      <td>19</td>\n",
       "    </tr>\n",
       "    <tr>\n",
       "      <th>78</th>\n",
       "      <td>NaN</td>\n",
       "      <td>3289</td>\n",
       "      <td>2652</td>\n",
       "      <td>0.859813</td>\n",
       "      <td>0.900312</td>\n",
       "      <td>10</td>\n",
       "      <td>PCMAC</td>\n",
       "      <td>19</td>\n",
       "    </tr>\n",
       "    <tr>\n",
       "      <th>79</th>\n",
       "      <td>NaN</td>\n",
       "      <td>4322</td>\n",
       "      <td>2092</td>\n",
       "      <td>0.881104</td>\n",
       "      <td>0.895966</td>\n",
       "      <td>10</td>\n",
       "      <td>RELATHE</td>\n",
       "      <td>19</td>\n",
       "    </tr>\n",
       "  </tbody>\n",
       "</table>\n",
       "<p>80 rows × 8 columns</p>\n",
       "</div>"
      ],
      "text/plain": [
       "    idataset  num_features  num_selected_features  base_score  \\\n",
       "0        NaN          4862                   4367    0.942249   \n",
       "1        NaN         22283                  11175    0.827586   \n",
       "2        NaN          3289                   2373    0.873832   \n",
       "3        NaN          4322                   4322    0.870488   \n",
       "4        NaN          4862                   4359    0.946809   \n",
       "..       ...           ...                    ...         ...   \n",
       "75       NaN          4322                   3929    0.887473   \n",
       "76       NaN          4862                   4700    0.951368   \n",
       "77       NaN         22283                  11209    0.793103   \n",
       "78       NaN          3289                   2652    0.859813   \n",
       "79       NaN          4322                   2092    0.881104   \n",
       "\n",
       "    selected_features_score  num_flowers   dataset   i  \n",
       "0                  0.955927           10  BASEHOCK   0  \n",
       "1                  0.931034           10    GLI_85   0  \n",
       "2                  0.894081           10     PCMAC   0  \n",
       "3                  0.900212           10   RELATHE   0  \n",
       "4                  0.963526           10  BASEHOCK   1  \n",
       "..                      ...          ...       ...  ..  \n",
       "75                 0.904459           10   RELATHE  18  \n",
       "76                 0.957447           10  BASEHOCK  19  \n",
       "77                 0.965517           10    GLI_85  19  \n",
       "78                 0.900312           10     PCMAC  19  \n",
       "79                 0.895966           10   RELATHE  19  \n",
       "\n",
       "[80 rows x 8 columns]"
      ]
     },
     "execution_count": 6,
     "metadata": {},
     "output_type": "execute_result"
    }
   ],
   "source": [
    "df = pd.read_csv(\"../src/experiments_results.csv\")\n",
    "df"
   ]
  },
  {
   "cell_type": "code",
   "execution_count": 7,
   "metadata": {},
   "outputs": [],
   "source": [
    "df = df.drop([\"idataset\"], axis = 1)"
   ]
  },
  {
   "cell_type": "code",
   "execution_count": 8,
   "metadata": {},
   "outputs": [
    {
     "data": {
      "text/plain": [
       "dataset\n",
       "BASEHOCK    0.956991\n",
       "GLI_85      0.912069\n",
       "PCMAC       0.891667\n",
       "RELATHE     0.897134\n",
       "Name: selected_features_score, dtype: float64"
      ]
     },
     "execution_count": 8,
     "metadata": {},
     "output_type": "execute_result"
    }
   ],
   "source": [
    "df.groupby([\"dataset\"])[\"selected_features_score\"].mean()"
   ]
  },
  {
   "cell_type": "code",
   "execution_count": 9,
   "metadata": {},
   "outputs": [
    {
     "data": {
      "text/plain": [
       "dataset\n",
       "BASEHOCK    0.944301\n",
       "GLI_85      0.746552\n",
       "PCMAC       0.861449\n",
       "RELATHE     0.870913\n",
       "Name: base_score, dtype: float64"
      ]
     },
     "execution_count": 9,
     "metadata": {},
     "output_type": "execute_result"
    }
   ],
   "source": [
    "df.groupby([\"dataset\"])[\"base_score\"].mean()"
   ]
  },
  {
   "cell_type": "code",
   "execution_count": null,
   "metadata": {},
   "outputs": [],
   "source": []
  },
  {
   "cell_type": "code",
   "execution_count": null,
   "metadata": {},
   "outputs": [],
   "source": []
  },
  {
   "cell_type": "code",
   "execution_count": null,
   "metadata": {},
   "outputs": [],
   "source": []
  },
  {
   "cell_type": "code",
   "execution_count": null,
   "metadata": {},
   "outputs": [],
   "source": []
  }
 ],
 "metadata": {
  "kernelspec": {
   "display_name": "Python 3",
   "language": "python",
   "name": "python3"
  },
  "language_info": {
   "codemirror_mode": {
    "name": "ipython",
    "version": 3
   },
   "file_extension": ".py",
   "mimetype": "text/x-python",
   "name": "python",
   "nbconvert_exporter": "python",
   "pygments_lexer": "ipython3",
   "version": "3.8.5"
  }
 },
 "nbformat": 4,
 "nbformat_minor": 4
}
