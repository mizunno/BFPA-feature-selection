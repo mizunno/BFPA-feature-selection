{
 "cells": [
  {
   "cell_type": "code",
   "execution_count": 1,
   "metadata": {},
   "outputs": [],
   "source": [
    "import pandas as pd\n",
    "import seaborn as sns\n",
    "\n",
    "sns.set(rc={'figure.figsize':(11.7,8.27)})"
   ]
  },
  {
   "cell_type": "code",
   "execution_count": 2,
   "metadata": {},
   "outputs": [
    {
     "data": {
      "text/html": [
       "<div>\n",
       "<style scoped>\n",
       "    .dataframe tbody tr th:only-of-type {\n",
       "        vertical-align: middle;\n",
       "    }\n",
       "\n",
       "    .dataframe tbody tr th {\n",
       "        vertical-align: top;\n",
       "    }\n",
       "\n",
       "    .dataframe thead th {\n",
       "        text-align: right;\n",
       "    }\n",
       "</style>\n",
       "<table border=\"1\" class=\"dataframe\">\n",
       "  <thead>\n",
       "    <tr style=\"text-align: right;\">\n",
       "      <th></th>\n",
       "      <th>iteration</th>\n",
       "      <th>dataset</th>\n",
       "      <th>num_features</th>\n",
       "      <th>num_selected_features</th>\n",
       "      <th>base_score</th>\n",
       "      <th>selected_features_score</th>\n",
       "      <th>num_flowers</th>\n",
       "    </tr>\n",
       "  </thead>\n",
       "  <tbody>\n",
       "    <tr>\n",
       "      <th>0</th>\n",
       "      <td>0</td>\n",
       "      <td>BASEHOCK</td>\n",
       "      <td>4862</td>\n",
       "      <td>4403</td>\n",
       "      <td>0.942249</td>\n",
       "      <td>0.958967</td>\n",
       "      <td>20</td>\n",
       "    </tr>\n",
       "    <tr>\n",
       "      <th>1</th>\n",
       "      <td>0</td>\n",
       "      <td>GLI_85</td>\n",
       "      <td>22283</td>\n",
       "      <td>11194</td>\n",
       "      <td>0.758621</td>\n",
       "      <td>0.931034</td>\n",
       "      <td>20</td>\n",
       "    </tr>\n",
       "    <tr>\n",
       "      <th>2</th>\n",
       "      <td>0</td>\n",
       "      <td>PCMAC</td>\n",
       "      <td>3289</td>\n",
       "      <td>2422</td>\n",
       "      <td>0.864486</td>\n",
       "      <td>0.900312</td>\n",
       "      <td>20</td>\n",
       "    </tr>\n",
       "    <tr>\n",
       "      <th>3</th>\n",
       "      <td>0</td>\n",
       "      <td>RELATHE</td>\n",
       "      <td>4322</td>\n",
       "      <td>2222</td>\n",
       "      <td>0.868365</td>\n",
       "      <td>0.900212</td>\n",
       "      <td>20</td>\n",
       "    </tr>\n",
       "    <tr>\n",
       "      <th>4</th>\n",
       "      <td>0</td>\n",
       "      <td>SMK_CAN_187</td>\n",
       "      <td>19993</td>\n",
       "      <td>10105</td>\n",
       "      <td>0.629032</td>\n",
       "      <td>0.790323</td>\n",
       "      <td>20</td>\n",
       "    </tr>\n",
       "    <tr>\n",
       "      <th>...</th>\n",
       "      <td>...</td>\n",
       "      <td>...</td>\n",
       "      <td>...</td>\n",
       "      <td>...</td>\n",
       "      <td>...</td>\n",
       "      <td>...</td>\n",
       "      <td>...</td>\n",
       "    </tr>\n",
       "    <tr>\n",
       "      <th>135</th>\n",
       "      <td>19</td>\n",
       "      <td>PCMAC</td>\n",
       "      <td>3289</td>\n",
       "      <td>2990</td>\n",
       "      <td>0.856698</td>\n",
       "      <td>0.894081</td>\n",
       "      <td>20</td>\n",
       "    </tr>\n",
       "    <tr>\n",
       "      <th>136</th>\n",
       "      <td>19</td>\n",
       "      <td>RELATHE</td>\n",
       "      <td>4322</td>\n",
       "      <td>4322</td>\n",
       "      <td>0.876858</td>\n",
       "      <td>0.902335</td>\n",
       "      <td>20</td>\n",
       "    </tr>\n",
       "    <tr>\n",
       "      <th>137</th>\n",
       "      <td>19</td>\n",
       "      <td>SMK_CAN_187</td>\n",
       "      <td>19993</td>\n",
       "      <td>9965</td>\n",
       "      <td>0.629032</td>\n",
       "      <td>0.790323</td>\n",
       "      <td>20</td>\n",
       "    </tr>\n",
       "    <tr>\n",
       "      <th>138</th>\n",
       "      <td>19</td>\n",
       "      <td>TOX_171</td>\n",
       "      <td>5748</td>\n",
       "      <td>2927</td>\n",
       "      <td>0.578947</td>\n",
       "      <td>0.771930</td>\n",
       "      <td>20</td>\n",
       "    </tr>\n",
       "    <tr>\n",
       "      <th>139</th>\n",
       "      <td>19</td>\n",
       "      <td>AR10P</td>\n",
       "      <td>2400</td>\n",
       "      <td>1198</td>\n",
       "      <td>0.511628</td>\n",
       "      <td>0.837209</td>\n",
       "      <td>20</td>\n",
       "    </tr>\n",
       "  </tbody>\n",
       "</table>\n",
       "<p>140 rows × 7 columns</p>\n",
       "</div>"
      ],
      "text/plain": [
       "     iteration      dataset  num_features  num_selected_features  base_score  \\\n",
       "0            0     BASEHOCK          4862                   4403    0.942249   \n",
       "1            0       GLI_85         22283                  11194    0.758621   \n",
       "2            0        PCMAC          3289                   2422    0.864486   \n",
       "3            0      RELATHE          4322                   2222    0.868365   \n",
       "4            0  SMK_CAN_187         19993                  10105    0.629032   \n",
       "..         ...          ...           ...                    ...         ...   \n",
       "135         19        PCMAC          3289                   2990    0.856698   \n",
       "136         19      RELATHE          4322                   4322    0.876858   \n",
       "137         19  SMK_CAN_187         19993                   9965    0.629032   \n",
       "138         19      TOX_171          5748                   2927    0.578947   \n",
       "139         19        AR10P          2400                   1198    0.511628   \n",
       "\n",
       "     selected_features_score  num_flowers  \n",
       "0                   0.958967           20  \n",
       "1                   0.931034           20  \n",
       "2                   0.900312           20  \n",
       "3                   0.900212           20  \n",
       "4                   0.790323           20  \n",
       "..                       ...          ...  \n",
       "135                 0.894081           20  \n",
       "136                 0.902335           20  \n",
       "137                 0.790323           20  \n",
       "138                 0.771930           20  \n",
       "139                 0.837209           20  \n",
       "\n",
       "[140 rows x 7 columns]"
      ]
     },
     "execution_count": 2,
     "metadata": {},
     "output_type": "execute_result"
    }
   ],
   "source": [
    "# Read csv with experiment results\n",
    "df = pd.read_csv(\"../src/experiments_results_3.csv\")\n",
    "df"
   ]
  },
  {
   "cell_type": "code",
   "execution_count": 3,
   "metadata": {},
   "outputs": [],
   "source": [
    "# Transform experiments' dataframe to long format\n",
    "df_long_format = df.melt(id_vars='dataset').rename(columns=str.title)"
   ]
  },
  {
   "cell_type": "code",
   "execution_count": 4,
   "metadata": {},
   "outputs": [
    {
     "data": {
      "image/png": "[encoded data removed]",
      "text/plain": [
       "<Figure size 842.4x595.44 with 1 Axes>"
      ]
     },
     "metadata": {},
     "output_type": "display_data"
    }
   ],
   "source": [
    "# Plot base score and selected features score\n",
    "df_score = df_long_format[df_long_format[\"Variable\"].isin([\"base_score\",\"selected_features_score\"])]\n",
    "plot_scores = sns.barplot(x='Dataset', y='Value', hue='Variable', data=df_score)\n",
    "plot_scores.get_figure().savefig(\"scores.png\")"
   ]
  },
  {
   "cell_type": "code",
   "execution_count": 5,
   "metadata": {},
   "outputs": [
    {
     "data": {
      "image/png": "[encoded data removed]",
      "text/plain": [
       "<Figure size 842.4x595.44 with 1 Axes>"
      ]
     },
     "metadata": {},
     "output_type": "display_data"
    }
   ],
   "source": [
    "# Plot original num features and num selected features\n",
    "df_score = df_long_format[df_long_format[\"Variable\"].isin([\"num_features\",\"num_selected_features\"])]\n",
    "plot_features = sns.barplot(x='Dataset', y='Value', hue='Variable', data=df_score)\n",
    "plot_features.get_figure().savefig(\"num_features.png\")"
   ]
  },
  {
   "cell_type": "code",
   "execution_count": null,
   "metadata": {},
   "outputs": [],
   "source": []
  }
 ],
 "metadata": {
  "kernelspec": {
   "display_name": "Python 3",
   "language": "python",
   "name": "python3"
  },
  "language_info": {
   "codemirror_mode": {
    "name": "ipython",
    "version": 3
   },
   "file_extension": ".py",
   "mimetype": "text/x-python",
   "name": "python",
   "nbconvert_exporter": "python",
   "pygments_lexer": "ipython3",
   "version": "3.8.5"
  }
 },
 "nbformat": 4,
 "nbformat_minor": 4
}
